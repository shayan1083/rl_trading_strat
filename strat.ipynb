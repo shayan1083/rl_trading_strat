{
 "cells": [
  {
   "cell_type": "markdown",
   "metadata": {},
   "source": [
    "## 1) Packages and Data"
   ]
  },
  {
   "cell_type": "markdown",
   "metadata": {},
   "source": [
    "Imports"
   ]
  },
  {
   "cell_type": "code",
   "execution_count": 1,
   "metadata": {},
   "outputs": [],
   "source": [
    "import numpy as np\n",
    "import pandas as pd\n",
    "import matplotlib.pyplot as plt\n",
    "from pandas import read_csv, set_option\n",
    "from pandas.plotting import scatter_matrix\n",
    "import seaborn as sns\n",
    "from sklearn.preprocessing import StandardScaler\n",
    "import datetime\n",
    "import math\n",
    "from numpy.random import choice\n",
    "import random\n",
    "\n",
    "import torch\n",
    "import torch.nn as nn\n",
    "import torch.nn.functional as F\n",
    "import torch.optim as optim\n",
    "\n",
    "from collections import namedtuple, deque\n",
    "\n",
    "import yfinance as yf"
   ]
  },
  {
   "cell_type": "markdown",
   "metadata": {},
   "source": [
    "Get Market Data"
   ]
  },
  {
   "cell_type": "code",
   "execution_count": 2,
   "metadata": {},
   "outputs": [
    {
     "name": "stdout",
     "output_type": "stream",
     "text": [
      "                                  Open         High          Low        Close  \\\n",
      "Date                                                                            \n",
      "2014-05-23 00:00:00-04:00  1893.319946  1901.260010  1893.319946  1900.530029   \n",
      "2014-05-27 00:00:00-04:00  1902.010010  1912.280029  1902.010010  1911.910034   \n",
      "2014-05-28 00:00:00-04:00  1911.770020  1914.459961  1907.300049  1909.780029   \n",
      "2014-05-29 00:00:00-04:00  1910.599976  1920.030029  1909.819946  1920.030029   \n",
      "2014-05-30 00:00:00-04:00  1920.329956  1924.030029  1916.640015  1923.569946   \n",
      "...                                ...          ...          ...          ...   \n",
      "2024-05-16 00:00:00-04:00  5310.069824  5325.490234  5296.189941  5297.100098   \n",
      "2024-05-17 00:00:00-04:00  5303.100098  5305.450195  5283.589844  5303.270020   \n",
      "2024-05-20 00:00:00-04:00  5305.350098  5325.319824  5302.399902  5308.129883   \n",
      "2024-05-21 00:00:00-04:00  5298.689941  5324.319824  5297.870117  5321.410156   \n",
      "2024-05-22 00:00:00-04:00  5319.279785  5323.180176  5286.009766  5306.979980   \n",
      "\n",
      "                               Volume  Dividends  Stock Splits  \n",
      "Date                                                            \n",
      "2014-05-23 00:00:00-04:00  2396280000        0.0           0.0  \n",
      "2014-05-27 00:00:00-04:00  2911020000        0.0           0.0  \n",
      "2014-05-28 00:00:00-04:00  2976450000        0.0           0.0  \n",
      "2014-05-29 00:00:00-04:00  2709050000        0.0           0.0  \n",
      "2014-05-30 00:00:00-04:00  3263490000        0.0           0.0  \n",
      "...                               ...        ...           ...  \n",
      "2024-05-16 00:00:00-04:00  3817470000        0.0           0.0  \n",
      "2024-05-17 00:00:00-04:00  3578120000        0.0           0.0  \n",
      "2024-05-20 00:00:00-04:00  3420100000        0.0           0.0  \n",
      "2024-05-21 00:00:00-04:00  3662240000        0.0           0.0  \n",
      "2024-05-22 00:00:00-04:00  1952502000        0.0           0.0  \n",
      "\n",
      "[2517 rows x 7 columns]\n"
     ]
    }
   ],
   "source": [
    "ticker_symbol = \"^GSPC\" # ticker for s&p500\n",
    "\n",
    "sp500 = yf.Ticker(ticker_symbol) # data for s&p500\n",
    "\n",
    "hist = sp500.history(period=\"10y\")\n",
    "\n",
    "print(hist)"
   ]
  },
  {
   "cell_type": "markdown",
   "metadata": {},
   "source": [
    "Convert Data to CSV"
   ]
  },
  {
   "cell_type": "code",
   "execution_count": 3,
   "metadata": {},
   "outputs": [],
   "source": [
    "# hist.to_csv(\"sp500_historical.csv\")"
   ]
  },
  {
   "cell_type": "markdown",
   "metadata": {},
   "source": [
    "Put CSV Data into Pandas Dataframe"
   ]
  },
  {
   "cell_type": "code",
   "execution_count": 4,
   "metadata": {},
   "outputs": [
    {
     "data": {
      "text/plain": [
       "pandas.core.frame.DataFrame"
      ]
     },
     "execution_count": 4,
     "metadata": {},
     "output_type": "execute_result"
    }
   ],
   "source": [
    "csv = 'sp500_historical.csv'\n",
    "df = pd.read_csv(csv,index_col=0) # use col 0 as row labels\n",
    "type(df)"
   ]
  },
  {
   "cell_type": "markdown",
   "metadata": {},
   "source": [
    "## 2) Explore Data"
   ]
  },
  {
   "cell_type": "code",
   "execution_count": 5,
   "metadata": {},
   "outputs": [
    {
     "data": {
      "text/plain": [
       "(2517, 7)"
      ]
     },
     "execution_count": 5,
     "metadata": {},
     "output_type": "execute_result"
    }
   ],
   "source": [
    "df.shape"
   ]
  },
  {
   "cell_type": "code",
   "execution_count": 6,
   "metadata": {},
   "outputs": [
    {
     "data": {
      "text/html": [
       "<div>\n",
       "<style scoped>\n",
       "    .dataframe tbody tr th:only-of-type {\n",
       "        vertical-align: middle;\n",
       "    }\n",
       "\n",
       "    .dataframe tbody tr th {\n",
       "        vertical-align: top;\n",
       "    }\n",
       "\n",
       "    .dataframe thead th {\n",
       "        text-align: right;\n",
       "    }\n",
       "</style>\n",
       "<table border=\"1\" class=\"dataframe\">\n",
       "  <thead>\n",
       "    <tr style=\"text-align: right;\">\n",
       "      <th></th>\n",
       "      <th>Open</th>\n",
       "      <th>High</th>\n",
       "      <th>Low</th>\n",
       "      <th>Close</th>\n",
       "      <th>Volume</th>\n",
       "      <th>Dividends</th>\n",
       "      <th>Stock Splits</th>\n",
       "    </tr>\n",
       "    <tr>\n",
       "      <th>Date</th>\n",
       "      <th></th>\n",
       "      <th></th>\n",
       "      <th></th>\n",
       "      <th></th>\n",
       "      <th></th>\n",
       "      <th></th>\n",
       "      <th></th>\n",
       "    </tr>\n",
       "  </thead>\n",
       "  <tbody>\n",
       "    <tr>\n",
       "      <th>2014-05-19 00:00:00-04:00</th>\n",
       "      <td>1876.660034</td>\n",
       "      <td>1886.000000</td>\n",
       "      <td>1872.420044</td>\n",
       "      <td>1885.079956</td>\n",
       "      <td>2664250000</td>\n",
       "      <td>0.0</td>\n",
       "      <td>0.0</td>\n",
       "    </tr>\n",
       "    <tr>\n",
       "      <th>2014-05-20 00:00:00-04:00</th>\n",
       "      <td>1884.880005</td>\n",
       "      <td>1884.880005</td>\n",
       "      <td>1868.140015</td>\n",
       "      <td>1872.829956</td>\n",
       "      <td>3007700000</td>\n",
       "      <td>0.0</td>\n",
       "      <td>0.0</td>\n",
       "    </tr>\n",
       "    <tr>\n",
       "      <th>2014-05-21 00:00:00-04:00</th>\n",
       "      <td>1873.339966</td>\n",
       "      <td>1888.800049</td>\n",
       "      <td>1873.339966</td>\n",
       "      <td>1888.030029</td>\n",
       "      <td>2777140000</td>\n",
       "      <td>0.0</td>\n",
       "      <td>0.0</td>\n",
       "    </tr>\n",
       "    <tr>\n",
       "      <th>2014-05-22 00:00:00-04:00</th>\n",
       "      <td>1888.189941</td>\n",
       "      <td>1896.329956</td>\n",
       "      <td>1885.390015</td>\n",
       "      <td>1892.489990</td>\n",
       "      <td>2759800000</td>\n",
       "      <td>0.0</td>\n",
       "      <td>0.0</td>\n",
       "    </tr>\n",
       "    <tr>\n",
       "      <th>2014-05-23 00:00:00-04:00</th>\n",
       "      <td>1893.319946</td>\n",
       "      <td>1901.260010</td>\n",
       "      <td>1893.319946</td>\n",
       "      <td>1900.530029</td>\n",
       "      <td>2396280000</td>\n",
       "      <td>0.0</td>\n",
       "      <td>0.0</td>\n",
       "    </tr>\n",
       "  </tbody>\n",
       "</table>\n",
       "</div>"
      ],
      "text/plain": [
       "                                  Open         High          Low        Close  \\\n",
       "Date                                                                            \n",
       "2014-05-19 00:00:00-04:00  1876.660034  1886.000000  1872.420044  1885.079956   \n",
       "2014-05-20 00:00:00-04:00  1884.880005  1884.880005  1868.140015  1872.829956   \n",
       "2014-05-21 00:00:00-04:00  1873.339966  1888.800049  1873.339966  1888.030029   \n",
       "2014-05-22 00:00:00-04:00  1888.189941  1896.329956  1885.390015  1892.489990   \n",
       "2014-05-23 00:00:00-04:00  1893.319946  1901.260010  1893.319946  1900.530029   \n",
       "\n",
       "                               Volume  Dividends  Stock Splits  \n",
       "Date                                                            \n",
       "2014-05-19 00:00:00-04:00  2664250000        0.0           0.0  \n",
       "2014-05-20 00:00:00-04:00  3007700000        0.0           0.0  \n",
       "2014-05-21 00:00:00-04:00  2777140000        0.0           0.0  \n",
       "2014-05-22 00:00:00-04:00  2759800000        0.0           0.0  \n",
       "2014-05-23 00:00:00-04:00  2396280000        0.0           0.0  "
      ]
     },
     "execution_count": 6,
     "metadata": {},
     "output_type": "execute_result"
    }
   ],
   "source": [
    "df.head(5)"
   ]
  },
  {
   "cell_type": "markdown",
   "metadata": {},
   "source": [
    "Get statistics of data"
   ]
  },
  {
   "cell_type": "code",
   "execution_count": 7,
   "metadata": {},
   "outputs": [
    {
     "data": {
      "text/html": [
       "<div>\n",
       "<style scoped>\n",
       "    .dataframe tbody tr th:only-of-type {\n",
       "        vertical-align: middle;\n",
       "    }\n",
       "\n",
       "    .dataframe tbody tr th {\n",
       "        vertical-align: top;\n",
       "    }\n",
       "\n",
       "    .dataframe thead th {\n",
       "        text-align: right;\n",
       "    }\n",
       "</style>\n",
       "<table border=\"1\" class=\"dataframe\">\n",
       "  <thead>\n",
       "    <tr style=\"text-align: right;\">\n",
       "      <th></th>\n",
       "      <th>Open</th>\n",
       "      <th>High</th>\n",
       "      <th>Low</th>\n",
       "      <th>Close</th>\n",
       "      <th>Volume</th>\n",
       "      <th>Dividends</th>\n",
       "      <th>Stock Splits</th>\n",
       "    </tr>\n",
       "  </thead>\n",
       "  <tbody>\n",
       "    <tr>\n",
       "      <th>count</th>\n",
       "      <td>2517.000000</td>\n",
       "      <td>2517.000000</td>\n",
       "      <td>2517.000000</td>\n",
       "      <td>2517.000000</td>\n",
       "      <td>2.517000e+03</td>\n",
       "      <td>2517.0</td>\n",
       "      <td>2517.0</td>\n",
       "    </tr>\n",
       "    <tr>\n",
       "      <th>mean</th>\n",
       "      <td>3125.554992</td>\n",
       "      <td>3142.307463</td>\n",
       "      <td>3107.622268</td>\n",
       "      <td>3126.118749</td>\n",
       "      <td>3.969351e+09</td>\n",
       "      <td>0.0</td>\n",
       "      <td>0.0</td>\n",
       "    </tr>\n",
       "    <tr>\n",
       "      <th>std</th>\n",
       "      <td>951.181563</td>\n",
       "      <td>956.973539</td>\n",
       "      <td>945.492442</td>\n",
       "      <td>951.530421</td>\n",
       "      <td>9.650665e+08</td>\n",
       "      <td>0.0</td>\n",
       "      <td>0.0</td>\n",
       "    </tr>\n",
       "    <tr>\n",
       "      <th>min</th>\n",
       "      <td>1833.400024</td>\n",
       "      <td>1847.000000</td>\n",
       "      <td>1810.099976</td>\n",
       "      <td>1829.079956</td>\n",
       "      <td>1.296530e+09</td>\n",
       "      <td>0.0</td>\n",
       "      <td>0.0</td>\n",
       "    </tr>\n",
       "    <tr>\n",
       "      <th>25%</th>\n",
       "      <td>2185.169922</td>\n",
       "      <td>2188.060059</td>\n",
       "      <td>2179.419922</td>\n",
       "      <td>2186.479980</td>\n",
       "      <td>3.376750e+09</td>\n",
       "      <td>0.0</td>\n",
       "      <td>0.0</td>\n",
       "    </tr>\n",
       "    <tr>\n",
       "      <th>50%</th>\n",
       "      <td>2866.699951</td>\n",
       "      <td>2885.250000</td>\n",
       "      <td>2854.229980</td>\n",
       "      <td>2871.679932</td>\n",
       "      <td>3.793950e+09</td>\n",
       "      <td>0.0</td>\n",
       "      <td>0.0</td>\n",
       "    </tr>\n",
       "    <tr>\n",
       "      <th>75%</th>\n",
       "      <td>4013.020020</td>\n",
       "      <td>4046.459961</td>\n",
       "      <td>3980.310059</td>\n",
       "      <td>4016.219971</td>\n",
       "      <td>4.326660e+09</td>\n",
       "      <td>0.0</td>\n",
       "      <td>0.0</td>\n",
       "    </tr>\n",
       "    <tr>\n",
       "      <th>max</th>\n",
       "      <td>5310.069824</td>\n",
       "      <td>5325.490234</td>\n",
       "      <td>5296.189941</td>\n",
       "      <td>5308.149902</td>\n",
       "      <td>9.976520e+09</td>\n",
       "      <td>0.0</td>\n",
       "      <td>0.0</td>\n",
       "    </tr>\n",
       "  </tbody>\n",
       "</table>\n",
       "</div>"
      ],
      "text/plain": [
       "              Open         High          Low        Close        Volume  \\\n",
       "count  2517.000000  2517.000000  2517.000000  2517.000000  2.517000e+03   \n",
       "mean   3125.554992  3142.307463  3107.622268  3126.118749  3.969351e+09   \n",
       "std     951.181563   956.973539   945.492442   951.530421  9.650665e+08   \n",
       "min    1833.400024  1847.000000  1810.099976  1829.079956  1.296530e+09   \n",
       "25%    2185.169922  2188.060059  2179.419922  2186.479980  3.376750e+09   \n",
       "50%    2866.699951  2885.250000  2854.229980  2871.679932  3.793950e+09   \n",
       "75%    4013.020020  4046.459961  3980.310059  4016.219971  4.326660e+09   \n",
       "max    5310.069824  5325.490234  5296.189941  5308.149902  9.976520e+09   \n",
       "\n",
       "       Dividends  Stock Splits  \n",
       "count     2517.0        2517.0  \n",
       "mean         0.0           0.0  \n",
       "std          0.0           0.0  \n",
       "min          0.0           0.0  \n",
       "25%          0.0           0.0  \n",
       "50%          0.0           0.0  \n",
       "75%          0.0           0.0  \n",
       "max          0.0           0.0  "
      ]
     },
     "execution_count": 7,
     "metadata": {},
     "output_type": "execute_result"
    }
   ],
   "source": [
    "df.describe()"
   ]
  },
  {
   "cell_type": "markdown",
   "metadata": {},
   "source": [
    "Plot stock movement"
   ]
  },
  {
   "cell_type": "code",
   "execution_count": 8,
   "metadata": {},
   "outputs": [
    {
     "data": {
      "image/png": "[encoded data removed]",
      "text/plain": [
       "<Figure size 640x480 with 1 Axes>"
      ]
     },
     "metadata": {},
     "output_type": "display_data"
    }
   ],
   "source": [
    "import matplotlib.dates as mdates\n",
    "plt.plot(df.index, df['Close'])\n",
    "plt.xticks(rotation=45)\n",
    "plt.gca().xaxis.set_major_locator(mdates.YearLocator(base=1))\n",
    "plt.show()"
   ]
  },
  {
   "cell_type": "markdown",
   "metadata": {},
   "source": [
    "Data Cleaning"
   ]
  },
  {
   "cell_type": "code",
   "execution_count": 9,
   "metadata": {},
   "outputs": [
    {
     "name": "stdout",
     "output_type": "stream",
     "text": [
      "Null Values = False\n"
     ]
    }
   ],
   "source": [
    "print('Null Values =', df.isnull().values.any()) # check for null values"
   ]
  },
  {
   "cell_type": "code",
   "execution_count": 10,
   "metadata": {},
   "outputs": [
    {
     "name": "stderr",
     "output_type": "stream",
     "text": [
      "/var/folders/pd/9gc451qn4pq79vrqt_r9xlfr0000gn/T/ipykernel_41348/3377758463.py:1: FutureWarning: DataFrame.fillna with 'method' is deprecated and will raise in a future version. Use obj.ffill() or obj.bfill() instead.\n",
      "  df = df.fillna(method='bfill') # if there are null values, replace them with the next value in the dataset\n"
     ]
    }
   ],
   "source": [
    "df = df.fillna(method='bfill') # if there are null values, replace them with the next value in the dataset"
   ]
  },
  {
   "cell_type": "code",
   "execution_count": 11,
   "metadata": {},
   "outputs": [
    {
     "data": {
      "text/html": [
       "<div>\n",
       "<style scoped>\n",
       "    .dataframe tbody tr th:only-of-type {\n",
       "        vertical-align: middle;\n",
       "    }\n",
       "\n",
       "    .dataframe tbody tr th {\n",
       "        vertical-align: top;\n",
       "    }\n",
       "\n",
       "    .dataframe thead th {\n",
       "        text-align: right;\n",
       "    }\n",
       "</style>\n",
       "<table border=\"1\" class=\"dataframe\">\n",
       "  <thead>\n",
       "    <tr style=\"text-align: right;\">\n",
       "      <th></th>\n",
       "      <th>Open</th>\n",
       "      <th>High</th>\n",
       "      <th>Low</th>\n",
       "      <th>Close</th>\n",
       "      <th>Volume</th>\n",
       "      <th>Dividends</th>\n",
       "      <th>Stock Splits</th>\n",
       "    </tr>\n",
       "    <tr>\n",
       "      <th>Date</th>\n",
       "      <th></th>\n",
       "      <th></th>\n",
       "      <th></th>\n",
       "      <th></th>\n",
       "      <th></th>\n",
       "      <th></th>\n",
       "      <th></th>\n",
       "    </tr>\n",
       "  </thead>\n",
       "  <tbody>\n",
       "    <tr>\n",
       "      <th>2014-05-19 00:00:00-04:00</th>\n",
       "      <td>1876.660034</td>\n",
       "      <td>1886.000000</td>\n",
       "      <td>1872.420044</td>\n",
       "      <td>1885.079956</td>\n",
       "      <td>2664250000</td>\n",
       "      <td>0.0</td>\n",
       "      <td>0.0</td>\n",
       "    </tr>\n",
       "    <tr>\n",
       "      <th>2014-05-20 00:00:00-04:00</th>\n",
       "      <td>1884.880005</td>\n",
       "      <td>1884.880005</td>\n",
       "      <td>1868.140015</td>\n",
       "      <td>1872.829956</td>\n",
       "      <td>3007700000</td>\n",
       "      <td>0.0</td>\n",
       "      <td>0.0</td>\n",
       "    </tr>\n",
       "  </tbody>\n",
       "</table>\n",
       "</div>"
      ],
      "text/plain": [
       "                                  Open         High          Low        Close  \\\n",
       "Date                                                                            \n",
       "2014-05-19 00:00:00-04:00  1876.660034  1886.000000  1872.420044  1885.079956   \n",
       "2014-05-20 00:00:00-04:00  1884.880005  1884.880005  1868.140015  1872.829956   \n",
       "\n",
       "                               Volume  Dividends  Stock Splits  \n",
       "Date                                                            \n",
       "2014-05-19 00:00:00-04:00  2664250000        0.0           0.0  \n",
       "2014-05-20 00:00:00-04:00  3007700000        0.0           0.0  "
      ]
     },
     "execution_count": 11,
     "metadata": {},
     "output_type": "execute_result"
    }
   ],
   "source": [
    "df.head(2)"
   ]
  },
  {
   "cell_type": "markdown",
   "metadata": {},
   "source": [
    "Remove Last Two Colums"
   ]
  },
  {
   "cell_type": "code",
   "execution_count": 12,
   "metadata": {},
   "outputs": [
    {
     "data": {
      "text/html": [
       "<div>\n",
       "<style scoped>\n",
       "    .dataframe tbody tr th:only-of-type {\n",
       "        vertical-align: middle;\n",
       "    }\n",
       "\n",
       "    .dataframe tbody tr th {\n",
       "        vertical-align: top;\n",
       "    }\n",
       "\n",
       "    .dataframe thead th {\n",
       "        text-align: right;\n",
       "    }\n",
       "</style>\n",
       "<table border=\"1\" class=\"dataframe\">\n",
       "  <thead>\n",
       "    <tr style=\"text-align: right;\">\n",
       "      <th></th>\n",
       "      <th>Open</th>\n",
       "      <th>High</th>\n",
       "      <th>Low</th>\n",
       "      <th>Close</th>\n",
       "      <th>Volume</th>\n",
       "    </tr>\n",
       "    <tr>\n",
       "      <th>Date</th>\n",
       "      <th></th>\n",
       "      <th></th>\n",
       "      <th></th>\n",
       "      <th></th>\n",
       "      <th></th>\n",
       "    </tr>\n",
       "  </thead>\n",
       "  <tbody>\n",
       "    <tr>\n",
       "      <th>2014-05-19 00:00:00-04:00</th>\n",
       "      <td>1876.660034</td>\n",
       "      <td>1886.000000</td>\n",
       "      <td>1872.420044</td>\n",
       "      <td>1885.079956</td>\n",
       "      <td>2664250000</td>\n",
       "    </tr>\n",
       "    <tr>\n",
       "      <th>2014-05-20 00:00:00-04:00</th>\n",
       "      <td>1884.880005</td>\n",
       "      <td>1884.880005</td>\n",
       "      <td>1868.140015</td>\n",
       "      <td>1872.829956</td>\n",
       "      <td>3007700000</td>\n",
       "    </tr>\n",
       "  </tbody>\n",
       "</table>\n",
       "</div>"
      ],
      "text/plain": [
       "                                  Open         High          Low        Close  \\\n",
       "Date                                                                            \n",
       "2014-05-19 00:00:00-04:00  1876.660034  1886.000000  1872.420044  1885.079956   \n",
       "2014-05-20 00:00:00-04:00  1884.880005  1884.880005  1868.140015  1872.829956   \n",
       "\n",
       "                               Volume  \n",
       "Date                                   \n",
       "2014-05-19 00:00:00-04:00  2664250000  \n",
       "2014-05-20 00:00:00-04:00  3007700000  "
      ]
     },
     "execution_count": 12,
     "metadata": {},
     "output_type": "execute_result"
    }
   ],
   "source": [
    "cols = df.columns.to_list() # converts columns of df into a list\n",
    "drop = cols[-2:] # get last two columns of df\n",
    "df = df.drop(columns=drop) # delete those columns\n",
    "\n",
    "df.head(2)"
   ]
  },
  {
   "cell_type": "markdown",
   "metadata": {},
   "source": [
    "## 3) Build Model"
   ]
  },
  {
   "cell_type": "markdown",
   "metadata": {},
   "source": [
    "Split Dataset"
   ]
  },
  {
   "cell_type": "code",
   "execution_count": 13,
   "metadata": {},
   "outputs": [],
   "source": [
    "X = list(df['Close']) # create a list of closing prices from df\n",
    "X = [float(x) for x in X] # convert each element to a float"
   ]
  },
  {
   "cell_type": "code",
   "execution_count": null,
   "metadata": {},
   "outputs": [],
   "source": [
    "print(X[0:10])"
   ]
  },
  {
   "cell_type": "code",
   "execution_count": 14,
   "metadata": {},
   "outputs": [],
   "source": [
    "from sklearn.model_selection import train_test_split\n",
    "test_size = 0.2\n",
    "X_train, x_test = train_test_split(X, test_size=test_size, shuffle=False) # use test size 20%"
   ]
  },
  {
   "cell_type": "code",
   "execution_count": null,
   "metadata": {},
   "outputs": [],
   "source": [
    "print(X_train[0:10])"
   ]
  },
  {
   "cell_type": "markdown",
   "metadata": {},
   "source": [
    "Agent Class: Define an Agent that is designed to act as a reinforcement learning agent for stock trading using a neural network. The agent can buy, sell or hold a stock. It learns from its experiences over time"
   ]
  },
  {
   "cell_type": "code",
   "execution_count": null,
   "metadata": {},
   "outputs": [],
   "source": [
    "class Agent(nn.Module):\n",
    "    def __init__(self, state_size, is_eval=False, model_name=\"\"):\n",
    "        super(Agent, self).__init__()\n",
    "        self.state_size = state_size # state_size is equal to the window size; n previous days\n",
    "        self.action_size = 3 # buy, hold, sell\n",
    "        self.memory = deque(maxlen=1000) # for holding past experiences\n",
    "        self.inventory = [] # keep track of bought stocks\n",
    "        self.model_name = model_name # name of the model used for saving or loading\n",
    "        self.is_eval = is_eval # indicate if model is in eval mode\n",
    "\n",
    "        self.model = self._model() # initialize model\n",
    "        if is_eval and model_name: # or load saved one if it is requested\n",
    "            self.load_model(model_name)\n",
    "        \n",
    "        # instead of using compile() in tensorflow, specify parameters manually\n",
    "        self.criterion = nn.MSELoss()\n",
    "        self.optimizer = optim.Adam(self.model.parameters(), lr=0.001)\n",
    "\n",
    "        self.gamma = 0.95 # discount factor for future rewards\n",
    "        self.epsilon = 1.0 # initial exploration rate for the epsilon-greedy policy\n",
    "        self.epsilon_min = 0.1 # minimum value of epsilon\n",
    "        self.epsilon_decay = 0.995 # decay rate for epsilon\n",
    "\n",
    "    def load_model(self, model_name):\n",
    "        self.model.load_state_dict(torch.load(model_name)) # load model\n",
    "        self.model.eval() # set to eval mode\n",
    "\n",
    "    # create the model\n",
    "    def _model(self):\n",
    "        model = nn.Sequential(\n",
    "            # input layer w/ReLU\n",
    "            nn.Linear(in_features=self.state_size, out_features=64),\n",
    "            nn.ReLU(),\n",
    "            # hidden layers w/ReLU\n",
    "            nn.Linear(in_features=64, out_features=32),\n",
    "            nn.ReLU(),\n",
    "            nn.Linear(in_features=32, out_features=8),\n",
    "            nn.ReLU(),\n",
    "            # output layer w/linear (no activation)\n",
    "            nn.Linear(in_features=8, out_features=self.action_size)\n",
    "        )\n",
    "        return model\n",
    "\n",
    "    # forward pass through the layers\n",
    "    def forward(self, x):\n",
    "        return self.model(x)\n",
    "    \n",
    "    # select an action\n",
    "    def act(self, state):\n",
    "        # if it is test mode and self.epsilon is still very high, select a random action\n",
    "        num = random.random()\n",
    "        if not self.is_eval and num <= self.epsilon:\n",
    "            val = random.randrange(self.action_size)\n",
    "            return val\n",
    "        # otherwise select the action that has the highest predicted value from the neural network (q-value function)\n",
    "        state = torch.tensor(state, dtype=torch.float32)\n",
    "        options = self.forward(state).detach().numpy()\n",
    "        return np.argmax(options[0])\n",
    "\n",
    "    # train the neural network on a batch of data \n",
    "    def train(self, X, y):\n",
    "        self.model.train() # set model to training mode\n",
    "        self.optimizer.zero_grad() # set gradients to zero\n",
    "\n",
    "        y_pred = self.forward(X) # forward pass\n",
    "\n",
    "        loss = self.criterion(y_pred, y) # calculate loss using criterion defined in attributes\n",
    "\n",
    "        loss.backward() # backward pass to calculate gradients\n",
    "        self.optimizer.step() # update parameters\n",
    "\n",
    "        return loss.item() # return loss\n",
    "\n",
    "    # experience replay\n",
    "    # this helps the agent learn from past experiences.  \n",
    "    # It samples a minibatch of experiences from memory and updates Q-values using bellman equation\n",
    "    # if the current epoch is not done, update the target with the discounted future reqard\n",
    "    # after training on the minibatch, it decays the exploration rate epsilon\n",
    "    def expReplay(self, batch_size):\n",
    "        # sample transitions from batch randomly so that they are decorrelated\n",
    "        mini_batch = random.sample(self.memory, batch_size) \n",
    "        total_loss = 0\n",
    "        \n",
    "        # process each experience in the mini batch\n",
    "        for state, action, reward, next_state, done in mini_batch:\n",
    "            state = torch.tensor(state, dtype=torch.float32) # convert state to pytorch tensor\n",
    "            next_state = torch.tensor(next_state, dtype=torch.float32) # convert next_state to pytorch tensor\n",
    "            target = reward # set target as the imediate reward recieved after taking the action\n",
    "\n",
    "            # updating target q value: if the episode is not done, then the target q-value is updated\n",
    "            if not done:\n",
    "                # bellman equation: V(s) = max(R(s,a) + yV(s))\n",
    "                # value of state = max(reward for being in state s and performing action a + discount_factor*value of state)\n",
    "                n_s = self.forward(next_state) # pass next_state through the neural network to get the predicted q-values for next_state\n",
    "                # target q-value is updated using target = reward + gamma*max_future_reward\n",
    "                # torch.max(n_s[0]) gets the maximum q-value from the predicted q-values, representing the maximum expected future reward\n",
    "                target = reward + self.gamma * torch.max(n_s[0]) \n",
    "\n",
    "            target_f = self.forward(state) # pass the current state through the neural network to get the predicted q-values\n",
    "            # update predicted q value for the taken action with the calculated target q-value\n",
    "            # this essentially adjusts the q-value for the specific action taken, while oher actions' q-values remain the same\n",
    "            target_f[0][action] = target \n",
    "\n",
    "            # train the neural network\n",
    "            loss = self.train(state, target_f)\n",
    "            total_loss += loss\n",
    "        avg_loss = total_loss / batch_size\n",
    "        # if the current exploration rate epsilon is greater than the minimum allowed exploration rate epsilon min,\n",
    "        # then it is decayed\n",
    "        # this gradually shifts the policy from exploration (random actions) to exploitation (choosing the best known action)\n",
    "        if self.epsilon > self.epsilon_min:\n",
    "            self.epsilon *= self.epsilon_decay\n",
    "        \n",
    "        return avg_loss"
   ]
  },
  {
   "cell_type": "markdown",
   "metadata": {},
   "source": [
    "Helper Functions"
   ]
  },
  {
   "cell_type": "code",
   "execution_count": null,
   "metadata": {},
   "outputs": [],
   "source": [
    "# given a number n, format it with a dollar sign and a negative if needed\n",
    "def formatPrice(n):\n",
    "    return (\"-$\" if n < 0 else \"$\") + \"{0:.2f}\".format(abs(n))\n",
    "\n",
    "# custom sigmoid function that doesn't need tensor for input\n",
    "def sigmoid(x):\n",
    "    if x >= 0:\n",
    "        return 1 / (1 + math.exp(-x))\n",
    "    else:\n",
    "        return 1 / (1 + math.exp(x))\n",
    "\n",
    "# construct a window of the last n datapoints ending at time t\n",
    "# data is the list of historical stock prices, t is the current time index, n is the window size\n",
    "def getState(data, t, n):\n",
    "    d = t - n + 1 # starting index of the window\n",
    "    block = data[d:t+1] if d >= 0 else -d * [data[0]] + data[0:t + 1] # create the data block including t\n",
    "    res = [] # store normalized differences between consecutive data points\n",
    "    for i in range(n-1): # loop over the window of data points excluding the last point\n",
    "        res.append(sigmoid(block[i+1]-block[i])) # compute the difference block[i+1]-block[i], apply sigmoid, and append to res\n",
    "    return np.array([res]) # return res as a numpy array\n",
    "\n",
    "# visualize trading behavior of the agent\n",
    "# states_buy is a list of indices where the agent decided to buy\n",
    "# states_sell is a list of indices where the agent decided to sell\n",
    "# profit is total profit made by agent\n",
    "def plot_behavior(data_input, states_buy, states_sell, profit):\n",
    "    fig = plt.figure(figsize=(15,5))\n",
    "    plt.plot(data_input, color='g', lw=2.) # plot stock prices in red with line width of 2\n",
    "    plt.plot(data_input, '^', markersize=10, color='m', label='Buying Signal', markevery=states_buy) # mark buying signals with up arrows\n",
    "    plt.plot(data_input, 'v', markersize=10, color='k', label='Selling Signal', markevery=states_sell) # mark selling signals with down arrows\n",
    "    plt.title('Total Gains: %f'%(profit)) # print total gains\n",
    "    plt.legend() # add a legend to plot\n",
    "    plt.show() # show the plot"
   ]
  },
  {
   "cell_type": "markdown",
   "metadata": {},
   "source": [
    "Function to train the Agent"
   ]
  },
  {
   "cell_type": "code",
   "execution_count": null,
   "metadata": {},
   "outputs": [],
   "source": [
    "def train_agent(window_size: int, agent: Agent, data, l: int, batch_size: int, epochs: int):\n",
    "    for e in range(epochs+1): \n",
    "        print(\"Epoch \" + str(e) + \"/\" + str(epochs)) \n",
    "\n",
    "        state = getState(data, 0, window_size + 1) # initialize the initial state for the current epoch \n",
    "        total_profit = 0 # reset total profit\n",
    "        agent.inventory = [] # reset inventory of agent\n",
    "        states_buy = [] # reset list of indices where agent bought\n",
    "        states_sell = [] # reset list of indices where agent sold\n",
    "        epoch_loss = 0 # total loss for epoch\n",
    "        loss_count = 0 # number of minibatches processed\n",
    "\n",
    "        for t in range(l): # loop through each time step in the train data\n",
    "            action = agent.act(state) # decide what action to take based on the current state\n",
    "\n",
    "            # calculate the next state at the next time step,\n",
    "            # include the current time step and the previous window size in the new window size\n",
    "            next_state = getState(data, t+1, window_size+1)  \n",
    "        \n",
    "            reward = 0 # initialize the reward to zero\n",
    "\n",
    "            # agent chooses to buy\n",
    "            if action == 1: \n",
    "                agent.inventory.append(data[t]) # add bought stock price to inventory\n",
    "                states_buy.append(t) # record buying time step t\n",
    "\n",
    "            # agent chooses to sell, and it has already bought a stock\n",
    "            elif action == 2 and len(agent.inventory) > 0: \n",
    "                bought_price = agent.inventory.pop(0) # get the price of the last stock bought, remove from inventory\n",
    "                reward = max(data[t] - bought_price, 0) # get the reward of selling the stock, either positive or zero\n",
    "                total_profit += (data[t] - bought_price) # add the profit from selling the stock to total_profit\n",
    "                states_sell.append(t) # record selling time step t\n",
    "            \n",
    "            # check if the current time step is the last one to signal the end of the epoch\n",
    "            done = True if t == l - 1 else False \n",
    "\n",
    "            # add the tuple with information to the memory of the agent; store the experience in memory \n",
    "            # an experience represents one step in the environment\n",
    "            transition = (state, action, reward, next_state, done)\n",
    "            agent.memory.append(transition) \n",
    "            state = next_state # update the current state to the next state\n",
    "\n",
    "            if done: # visualize the total profit and plot the buying/selling signals if epoch is done \n",
    "                print(\"--------------------------------\")\n",
    "                print(\"Total Profit: \" + formatPrice(total_profit))\n",
    "                print(\"--------------------------------\")\n",
    "                plot_behavior(data, states_buy, states_sell, total_profit)\n",
    "\n",
    "            # if the number of experiences stored is greater than batch_size\n",
    "            if len(agent.memory) > batch_size: \n",
    "                batch_loss = agent.expReplay(batch_size)\n",
    "                if batch_loss is not None: # sometimes batch_loss is None, this is to avoid error\n",
    "                    epoch_loss += batch_loss\n",
    "                    loss_count+=1\n",
    "\n",
    "        if loss_count > 0:\n",
    "            avg_epoch_loss = epoch_loss / loss_count\n",
    "            print(f\"Average Loss for Epoch {e}: {avg_epoch_loss}\")\n",
    "    \n",
    "    torch.save(agent.model.state_dict(), (\"model_ep\"+str(e)))"
   ]
  },
  {
   "cell_type": "markdown",
   "metadata": {},
   "source": [
    "## 4) Train Model"
   ]
  },
  {
   "cell_type": "code",
   "execution_count": null,
   "metadata": {},
   "outputs": [],
   "source": [
    "window_size = 1 # size of window to construct state\n",
    "agent = Agent(window_size) # create an instance of Agent class\n",
    "data = X_train # get training data\n",
    "l = len(data)-1 # length of training data\n",
    "batch_size = 32 # size of mini batch used in experienceReplay; the nubmer of experiences the agent will use for each step in experienceReplay/training\n",
    "epochs = 15 # number of loops over whole dataset"
   ]
  },
  {
   "cell_type": "markdown",
   "metadata": {},
   "source": [
    "## Results"
   ]
  },
  {
   "cell_type": "code",
   "execution_count": null,
   "metadata": {},
   "outputs": [],
   "source": [
    "from torchsummary import summary\n",
    "summary(agent.model, input_size=(agent.state_size,))"
   ]
  },
  {
   "cell_type": "code",
   "execution_count": null,
   "metadata": {},
   "outputs": [],
   "source": [
    "test_data = x_test\n",
    "l_test = len(test_data) - 1\n",
    "window_size = 1\n",
    "model_name = \"model_ep\"+str(epochs)\n",
    "\n",
    "is_eval = True\n",
    "\n",
    "eval_agent = Agent(window_size, is_eval, model_name)\n",
    "\n",
    "state = getState(data, 0, window_size + 1)\n",
    "total_profit = 0\n",
    "states_buy_test = []\n",
    "states_sell_test = []"
   ]
  },
  {
   "cell_type": "code",
   "execution_count": null,
   "metadata": {},
   "outputs": [],
   "source": [
    "for t in range(l_test):\n",
    "    action = eval_agent.act(state)\n",
    "    next_state = getState(test_data, t + 1, window_size + 1)\n",
    "    reward = 0\n",
    "    \n",
    "    if action == 1:\n",
    "        eval_agent.inventory.append(test_data[t])\n",
    "        states_buy_test.append(t)\n",
    "        print(\"Buy: \", formatPrice(test_data[t]))\n",
    "    elif action == 2 and len(eval_agent.inventory) > 0:\n",
    "        bought_price = eval_agent.inventory.pop(0)\n",
    "        reward = max(test_data[t] - bought_price, 0)\n",
    "        total_profit += (test_data[t] - bought_price)\n",
    "        states_sell_test.append(t)\n",
    "        print(\"Sell: \", formatPrice(test_data[t]))\n",
    "        print(\"Profit: \", formatPrice(test_data[t] - bought_price))\n",
    "    \n",
    "    done = True if t == l_test - 1 else False\n",
    "    state = next_state\n",
    "    \n",
    "    if done:\n",
    "        print(\"------------------------------------------\")\n",
    "        print(\"Total Profit: \" + formatPrice(total_profit))\n",
    "        print(\"------------------------------------------\")\n",
    "        \n",
    "plot_behavior(test_data,states_buy_test, states_sell_test, total_profit)"
   ]
  },
  {
   "cell_type": "code",
   "execution_count": null,
   "metadata": {},
   "outputs": [],
   "source": []
  }
 ],
 "metadata": {
  "kernelspec": {
   "display_name": "venv",
   "language": "python",
   "name": "python3"
  },
  "language_info": {
   "codemirror_mode": {
    "name": "ipython",
    "version": 3
   },
   "file_extension": ".py",
   "mimetype": "text/x-python",
   "name": "python",
   "nbconvert_exporter": "python",
   "pygments_lexer": "ipython3",
   "version": "3.10.10"
  }
 },
 "nbformat": 4,
 "nbformat_minor": 2
}
