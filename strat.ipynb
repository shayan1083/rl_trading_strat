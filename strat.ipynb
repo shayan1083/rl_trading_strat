{
 "cells": [
  {
   "cell_type": "markdown",
   "metadata": {},
   "source": [
    "## 1) Packages and Data"
   ]
  },
  {
   "cell_type": "markdown",
   "metadata": {},
   "source": [
    "Imports"
   ]
  },
  {
   "cell_type": "code",
   "execution_count": 1,
   "metadata": {},
   "outputs": [],
   "source": [
    "import numpy as np\n",
    "import pandas as pd\n",
    "import matplotlib.pyplot as plt\n",
    "from pandas import read_csv, set_option\n",
    "from pandas.plotting import scatter_matrix\n",
    "import seaborn as sns\n",
    "from sklearn.preprocessing import StandardScaler\n",
    "import datetime\n",
    "import math\n",
    "from numpy.random import choice\n",
    "import random\n",
    "\n",
    "import torch\n",
    "import torch.nn as nn\n",
    "import torch.nn.functional as F\n",
    "import torch.optim as optim\n",
    "\n",
    "from collections import namedtuple, deque\n",
    "\n",
    "import yfinance as yf"
   ]
  },
  {
   "cell_type": "markdown",
   "metadata": {},
   "source": [
    "Get Market Data"
   ]
  },
  {
   "cell_type": "code",
   "execution_count": 2,
   "metadata": {},
   "outputs": [
    {
     "name": "stdout",
     "output_type": "stream",
     "text": [
      "                                  Open         High          Low        Close  \\\n",
      "Date                                                                            \n",
      "2009-06-04 00:00:00-04:00   932.489990   942.469971   929.320007   942.460022   \n",
      "2009-06-05 00:00:00-04:00   945.669983   951.690002   934.130005   940.090027   \n",
      "2009-06-08 00:00:00-04:00   938.119995   946.330017   926.440002   939.140015   \n",
      "2009-06-09 00:00:00-04:00   940.349976   946.919983   936.150024   942.429993   \n",
      "2009-06-10 00:00:00-04:00   942.729980   949.770020   927.969971   939.150024   \n",
      "...                                ...          ...          ...          ...   \n",
      "2024-05-28 00:00:00-04:00  5315.910156  5315.910156  5280.890137  5306.040039   \n",
      "2024-05-29 00:00:00-04:00  5278.729980  5282.270020  5262.700195  5266.950195   \n",
      "2024-05-30 00:00:00-04:00  5259.770020  5260.209961  5222.100098  5235.479980   \n",
      "2024-05-31 00:00:00-04:00  5243.209961  5280.330078  5191.680176  5277.509766   \n",
      "2024-06-03 00:00:00-04:00  5297.149902  5302.109863  5234.319824  5283.399902   \n",
      "\n",
      "                               Volume  Dividends  Stock Splits  \n",
      "Date                                                            \n",
      "2009-06-04 00:00:00-04:00  5352890000        0.0           0.0  \n",
      "2009-06-05 00:00:00-04:00  5277910000        0.0           0.0  \n",
      "2009-06-08 00:00:00-04:00  4483430000        0.0           0.0  \n",
      "2009-06-09 00:00:00-04:00  4439950000        0.0           0.0  \n",
      "2009-06-10 00:00:00-04:00  5379420000        0.0           0.0  \n",
      "...                               ...        ...           ...  \n",
      "2024-05-28 00:00:00-04:00  3751540000        0.0           0.0  \n",
      "2024-05-29 00:00:00-04:00  3552750000        0.0           0.0  \n",
      "2024-05-30 00:00:00-04:00  3818750000        0.0           0.0  \n",
      "2024-05-31 00:00:00-04:00  5437160000        0.0           0.0  \n",
      "2024-06-03 00:00:00-04:00  2302964000        0.0           0.0  \n",
      "\n",
      "[3775 rows x 7 columns]\n"
     ]
    }
   ],
   "source": [
    "ticker_symbol = \"^GSPC\" # ticker for s&p500\n",
    "\n",
    "sp500 = yf.Ticker(ticker_symbol) # data for s&p500\n",
    "\n",
    "hist = sp500.history(period=\"15y\")\n",
    "\n",
    "print(hist)"
   ]
  },
  {
   "cell_type": "markdown",
   "metadata": {},
   "source": [
    "Convert Data to CSV"
   ]
  },
  {
   "cell_type": "code",
   "execution_count": 3,
   "metadata": {},
   "outputs": [],
   "source": [
    "#hist.to_csv(\"sp500_historical.csv\")"
   ]
  },
  {
   "cell_type": "markdown",
   "metadata": {},
   "source": [
    "Put CSV Data into Pandas Dataframe"
   ]
  },
  {
   "cell_type": "code",
   "execution_count": 4,
   "metadata": {},
   "outputs": [
    {
     "data": {
      "text/plain": [
       "pandas.core.frame.DataFrame"
      ]
     },
     "execution_count": 4,
     "metadata": {},
     "output_type": "execute_result"
    }
   ],
   "source": [
    "csv = 'sp500_historical.csv'\n",
    "df = pd.read_csv(csv,index_col=0) # use col 0 as row labels\n",
    "type(df)"
   ]
  },
  {
   "cell_type": "markdown",
   "metadata": {},
   "source": [
    "## 2) Explore Data"
   ]
  },
  {
   "cell_type": "code",
   "execution_count": 5,
   "metadata": {},
   "outputs": [
    {
     "data": {
      "text/plain": [
       "(3777, 7)"
      ]
     },
     "execution_count": 5,
     "metadata": {},
     "output_type": "execute_result"
    }
   ],
   "source": [
    "df.shape"
   ]
  },
  {
   "cell_type": "code",
   "execution_count": 6,
   "metadata": {},
   "outputs": [
    {
     "data": {
      "text/html": [
       "<div>\n",
       "<style scoped>\n",
       "    .dataframe tbody tr th:only-of-type {\n",
       "        vertical-align: middle;\n",
       "    }\n",
       "\n",
       "    .dataframe tbody tr th {\n",
       "        vertical-align: top;\n",
       "    }\n",
       "\n",
       "    .dataframe thead th {\n",
       "        text-align: right;\n",
       "    }\n",
       "</style>\n",
       "<table border=\"1\" class=\"dataframe\">\n",
       "  <thead>\n",
       "    <tr style=\"text-align: right;\">\n",
       "      <th></th>\n",
       "      <th>Open</th>\n",
       "      <th>High</th>\n",
       "      <th>Low</th>\n",
       "      <th>Close</th>\n",
       "      <th>Volume</th>\n",
       "      <th>Dividends</th>\n",
       "      <th>Stock Splits</th>\n",
       "    </tr>\n",
       "    <tr>\n",
       "      <th>Date</th>\n",
       "      <th></th>\n",
       "      <th></th>\n",
       "      <th></th>\n",
       "      <th></th>\n",
       "      <th></th>\n",
       "      <th></th>\n",
       "      <th></th>\n",
       "    </tr>\n",
       "  </thead>\n",
       "  <tbody>\n",
       "    <tr>\n",
       "      <th>2009-06-01 00:00:00-04:00</th>\n",
       "      <td>923.260010</td>\n",
       "      <td>947.770020</td>\n",
       "      <td>923.260010</td>\n",
       "      <td>942.869995</td>\n",
       "      <td>6370440000</td>\n",
       "      <td>0.0</td>\n",
       "      <td>0.0</td>\n",
       "    </tr>\n",
       "    <tr>\n",
       "      <th>2009-06-02 00:00:00-04:00</th>\n",
       "      <td>942.869995</td>\n",
       "      <td>949.380005</td>\n",
       "      <td>938.460022</td>\n",
       "      <td>944.739990</td>\n",
       "      <td>5987340000</td>\n",
       "      <td>0.0</td>\n",
       "      <td>0.0</td>\n",
       "    </tr>\n",
       "    <tr>\n",
       "      <th>2009-06-03 00:00:00-04:00</th>\n",
       "      <td>942.510010</td>\n",
       "      <td>942.510010</td>\n",
       "      <td>923.849976</td>\n",
       "      <td>931.760010</td>\n",
       "      <td>5323770000</td>\n",
       "      <td>0.0</td>\n",
       "      <td>0.0</td>\n",
       "    </tr>\n",
       "    <tr>\n",
       "      <th>2009-06-04 00:00:00-04:00</th>\n",
       "      <td>932.489990</td>\n",
       "      <td>942.469971</td>\n",
       "      <td>929.320007</td>\n",
       "      <td>942.460022</td>\n",
       "      <td>5352890000</td>\n",
       "      <td>0.0</td>\n",
       "      <td>0.0</td>\n",
       "    </tr>\n",
       "    <tr>\n",
       "      <th>2009-06-05 00:00:00-04:00</th>\n",
       "      <td>945.669983</td>\n",
       "      <td>951.690002</td>\n",
       "      <td>934.130005</td>\n",
       "      <td>940.090027</td>\n",
       "      <td>5277910000</td>\n",
       "      <td>0.0</td>\n",
       "      <td>0.0</td>\n",
       "    </tr>\n",
       "  </tbody>\n",
       "</table>\n",
       "</div>"
      ],
      "text/plain": [
       "                                 Open        High         Low       Close  \\\n",
       "Date                                                                        \n",
       "2009-06-01 00:00:00-04:00  923.260010  947.770020  923.260010  942.869995   \n",
       "2009-06-02 00:00:00-04:00  942.869995  949.380005  938.460022  944.739990   \n",
       "2009-06-03 00:00:00-04:00  942.510010  942.510010  923.849976  931.760010   \n",
       "2009-06-04 00:00:00-04:00  932.489990  942.469971  929.320007  942.460022   \n",
       "2009-06-05 00:00:00-04:00  945.669983  951.690002  934.130005  940.090027   \n",
       "\n",
       "                               Volume  Dividends  Stock Splits  \n",
       "Date                                                            \n",
       "2009-06-01 00:00:00-04:00  6370440000        0.0           0.0  \n",
       "2009-06-02 00:00:00-04:00  5987340000        0.0           0.0  \n",
       "2009-06-03 00:00:00-04:00  5323770000        0.0           0.0  \n",
       "2009-06-04 00:00:00-04:00  5352890000        0.0           0.0  \n",
       "2009-06-05 00:00:00-04:00  5277910000        0.0           0.0  "
      ]
     },
     "execution_count": 6,
     "metadata": {},
     "output_type": "execute_result"
    }
   ],
   "source": [
    "df.head(5)"
   ]
  },
  {
   "cell_type": "markdown",
   "metadata": {},
   "source": [
    "Get statistics of data"
   ]
  },
  {
   "cell_type": "code",
   "execution_count": 7,
   "metadata": {},
   "outputs": [
    {
     "data": {
      "text/html": [
       "<div>\n",
       "<style scoped>\n",
       "    .dataframe tbody tr th:only-of-type {\n",
       "        vertical-align: middle;\n",
       "    }\n",
       "\n",
       "    .dataframe tbody tr th {\n",
       "        vertical-align: top;\n",
       "    }\n",
       "\n",
       "    .dataframe thead th {\n",
       "        text-align: right;\n",
       "    }\n",
       "</style>\n",
       "<table border=\"1\" class=\"dataframe\">\n",
       "  <thead>\n",
       "    <tr style=\"text-align: right;\">\n",
       "      <th></th>\n",
       "      <th>Open</th>\n",
       "      <th>High</th>\n",
       "      <th>Low</th>\n",
       "      <th>Close</th>\n",
       "      <th>Volume</th>\n",
       "      <th>Dividends</th>\n",
       "      <th>Stock Splits</th>\n",
       "    </tr>\n",
       "  </thead>\n",
       "  <tbody>\n",
       "    <tr>\n",
       "      <th>count</th>\n",
       "      <td>3777.000000</td>\n",
       "      <td>3777.000000</td>\n",
       "      <td>3777.000000</td>\n",
       "      <td>3777.000000</td>\n",
       "      <td>3.777000e+03</td>\n",
       "      <td>3777.0</td>\n",
       "      <td>3777.0</td>\n",
       "    </tr>\n",
       "    <tr>\n",
       "      <th>mean</th>\n",
       "      <td>2544.960353</td>\n",
       "      <td>2558.736689</td>\n",
       "      <td>2530.276415</td>\n",
       "      <td>2545.557230</td>\n",
       "      <td>3.980558e+09</td>\n",
       "      <td>0.0</td>\n",
       "      <td>0.0</td>\n",
       "    </tr>\n",
       "    <tr>\n",
       "      <th>std</th>\n",
       "      <td>1156.828114</td>\n",
       "      <td>1162.996295</td>\n",
       "      <td>1150.309040</td>\n",
       "      <td>1156.939522</td>\n",
       "      <td>9.733658e+08</td>\n",
       "      <td>0.0</td>\n",
       "      <td>0.0</td>\n",
       "    </tr>\n",
       "    <tr>\n",
       "      <th>min</th>\n",
       "      <td>879.570007</td>\n",
       "      <td>883.570007</td>\n",
       "      <td>869.320007</td>\n",
       "      <td>879.130005</td>\n",
       "      <td>1.025000e+09</td>\n",
       "      <td>0.0</td>\n",
       "      <td>0.0</td>\n",
       "    </tr>\n",
       "    <tr>\n",
       "      <th>25%</th>\n",
       "      <td>1521.380005</td>\n",
       "      <td>1530.939941</td>\n",
       "      <td>1515.930054</td>\n",
       "      <td>1525.199951</td>\n",
       "      <td>3.384080e+09</td>\n",
       "      <td>0.0</td>\n",
       "      <td>0.0</td>\n",
       "    </tr>\n",
       "    <tr>\n",
       "      <th>50%</th>\n",
       "      <td>2200.649902</td>\n",
       "      <td>2204.800049</td>\n",
       "      <td>2194.510010</td>\n",
       "      <td>2201.719971</td>\n",
       "      <td>3.816660e+09</td>\n",
       "      <td>0.0</td>\n",
       "      <td>0.0</td>\n",
       "    </tr>\n",
       "    <tr>\n",
       "      <th>75%</th>\n",
       "      <td>3365.870117</td>\n",
       "      <td>3381.010010</td>\n",
       "      <td>3341.020020</td>\n",
       "      <td>3363.000000</td>\n",
       "      <td>4.378570e+09</td>\n",
       "      <td>0.0</td>\n",
       "      <td>0.0</td>\n",
       "    </tr>\n",
       "    <tr>\n",
       "      <th>max</th>\n",
       "      <td>5340.259766</td>\n",
       "      <td>5341.879883</td>\n",
       "      <td>5302.399902</td>\n",
       "      <td>5321.410156</td>\n",
       "      <td>1.061781e+10</td>\n",
       "      <td>0.0</td>\n",
       "      <td>0.0</td>\n",
       "    </tr>\n",
       "  </tbody>\n",
       "</table>\n",
       "</div>"
      ],
      "text/plain": [
       "              Open         High          Low        Close        Volume  \\\n",
       "count  3777.000000  3777.000000  3777.000000  3777.000000  3.777000e+03   \n",
       "mean   2544.960353  2558.736689  2530.276415  2545.557230  3.980558e+09   \n",
       "std    1156.828114  1162.996295  1150.309040  1156.939522  9.733658e+08   \n",
       "min     879.570007   883.570007   869.320007   879.130005  1.025000e+09   \n",
       "25%    1521.380005  1530.939941  1515.930054  1525.199951  3.384080e+09   \n",
       "50%    2200.649902  2204.800049  2194.510010  2201.719971  3.816660e+09   \n",
       "75%    3365.870117  3381.010010  3341.020020  3363.000000  4.378570e+09   \n",
       "max    5340.259766  5341.879883  5302.399902  5321.410156  1.061781e+10   \n",
       "\n",
       "       Dividends  Stock Splits  \n",
       "count     3777.0        3777.0  \n",
       "mean         0.0           0.0  \n",
       "std          0.0           0.0  \n",
       "min          0.0           0.0  \n",
       "25%          0.0           0.0  \n",
       "50%          0.0           0.0  \n",
       "75%          0.0           0.0  \n",
       "max          0.0           0.0  "
      ]
     },
     "execution_count": 7,
     "metadata": {},
     "output_type": "execute_result"
    }
   ],
   "source": [
    "df.describe()"
   ]
  },
  {
   "cell_type": "markdown",
   "metadata": {},
   "source": [
    "Plot stock movement"
   ]
  },
  {
   "cell_type": "code",
   "execution_count": 8,
   "metadata": {},
   "outputs": [
    {
     "data": {
      "image/png": "[encoded data removed]",
      "text/plain": [
       "<Figure size 640x480 with 1 Axes>"
      ]
     },
     "metadata": {},
     "output_type": "display_data"
    }
   ],
   "source": [
    "plt.plot(df.index, df['Close'])\n",
    "plt.show()"
   ]
  },
  {
   "cell_type": "markdown",
   "metadata": {},
   "source": [
    "Data Cleaning"
   ]
  },
  {
   "cell_type": "code",
   "execution_count": 9,
   "metadata": {},
   "outputs": [
    {
     "name": "stdout",
     "output_type": "stream",
     "text": [
      "Null Values = False\n"
     ]
    }
   ],
   "source": [
    "print('Null Values =', df.isnull().values.any()) # check for null values"
   ]
  },
  {
   "cell_type": "code",
   "execution_count": 10,
   "metadata": {},
   "outputs": [
    {
     "name": "stderr",
     "output_type": "stream",
     "text": [
      "/var/folders/pd/9gc451qn4pq79vrqt_r9xlfr0000gn/T/ipykernel_76061/3377758463.py:1: FutureWarning: DataFrame.fillna with 'method' is deprecated and will raise in a future version. Use obj.ffill() or obj.bfill() instead.\n",
      "  df = df.fillna(method='bfill') # if there are null values, replace them with the next value in the dataset\n"
     ]
    }
   ],
   "source": [
    "df = df.fillna(method='bfill') # if there are null values, replace them with the next value in the dataset"
   ]
  },
  {
   "cell_type": "code",
   "execution_count": 11,
   "metadata": {},
   "outputs": [
    {
     "data": {
      "text/html": [
       "<div>\n",
       "<style scoped>\n",
       "    .dataframe tbody tr th:only-of-type {\n",
       "        vertical-align: middle;\n",
       "    }\n",
       "\n",
       "    .dataframe tbody tr th {\n",
       "        vertical-align: top;\n",
       "    }\n",
       "\n",
       "    .dataframe thead th {\n",
       "        text-align: right;\n",
       "    }\n",
       "</style>\n",
       "<table border=\"1\" class=\"dataframe\">\n",
       "  <thead>\n",
       "    <tr style=\"text-align: right;\">\n",
       "      <th></th>\n",
       "      <th>Open</th>\n",
       "      <th>High</th>\n",
       "      <th>Low</th>\n",
       "      <th>Close</th>\n",
       "      <th>Volume</th>\n",
       "      <th>Dividends</th>\n",
       "      <th>Stock Splits</th>\n",
       "    </tr>\n",
       "    <tr>\n",
       "      <th>Date</th>\n",
       "      <th></th>\n",
       "      <th></th>\n",
       "      <th></th>\n",
       "      <th></th>\n",
       "      <th></th>\n",
       "      <th></th>\n",
       "      <th></th>\n",
       "    </tr>\n",
       "  </thead>\n",
       "  <tbody>\n",
       "    <tr>\n",
       "      <th>2009-06-01 00:00:00-04:00</th>\n",
       "      <td>923.260010</td>\n",
       "      <td>947.770020</td>\n",
       "      <td>923.260010</td>\n",
       "      <td>942.869995</td>\n",
       "      <td>6370440000</td>\n",
       "      <td>0.0</td>\n",
       "      <td>0.0</td>\n",
       "    </tr>\n",
       "    <tr>\n",
       "      <th>2009-06-02 00:00:00-04:00</th>\n",
       "      <td>942.869995</td>\n",
       "      <td>949.380005</td>\n",
       "      <td>938.460022</td>\n",
       "      <td>944.739990</td>\n",
       "      <td>5987340000</td>\n",
       "      <td>0.0</td>\n",
       "      <td>0.0</td>\n",
       "    </tr>\n",
       "  </tbody>\n",
       "</table>\n",
       "</div>"
      ],
      "text/plain": [
       "                                 Open        High         Low       Close  \\\n",
       "Date                                                                        \n",
       "2009-06-01 00:00:00-04:00  923.260010  947.770020  923.260010  942.869995   \n",
       "2009-06-02 00:00:00-04:00  942.869995  949.380005  938.460022  944.739990   \n",
       "\n",
       "                               Volume  Dividends  Stock Splits  \n",
       "Date                                                            \n",
       "2009-06-01 00:00:00-04:00  6370440000        0.0           0.0  \n",
       "2009-06-02 00:00:00-04:00  5987340000        0.0           0.0  "
      ]
     },
     "execution_count": 11,
     "metadata": {},
     "output_type": "execute_result"
    }
   ],
   "source": [
    "df.head(2)"
   ]
  },
  {
   "cell_type": "markdown",
   "metadata": {},
   "source": [
    "Remove Last Two Colums"
   ]
  },
  {
   "cell_type": "code",
   "execution_count": 12,
   "metadata": {},
   "outputs": [
    {
     "data": {
      "text/html": [
       "<div>\n",
       "<style scoped>\n",
       "    .dataframe tbody tr th:only-of-type {\n",
       "        vertical-align: middle;\n",
       "    }\n",
       "\n",
       "    .dataframe tbody tr th {\n",
       "        vertical-align: top;\n",
       "    }\n",
       "\n",
       "    .dataframe thead th {\n",
       "        text-align: right;\n",
       "    }\n",
       "</style>\n",
       "<table border=\"1\" class=\"dataframe\">\n",
       "  <thead>\n",
       "    <tr style=\"text-align: right;\">\n",
       "      <th></th>\n",
       "      <th>Open</th>\n",
       "      <th>High</th>\n",
       "      <th>Low</th>\n",
       "      <th>Close</th>\n",
       "      <th>Volume</th>\n",
       "    </tr>\n",
       "    <tr>\n",
       "      <th>Date</th>\n",
       "      <th></th>\n",
       "      <th></th>\n",
       "      <th></th>\n",
       "      <th></th>\n",
       "      <th></th>\n",
       "    </tr>\n",
       "  </thead>\n",
       "  <tbody>\n",
       "    <tr>\n",
       "      <th>2009-06-01 00:00:00-04:00</th>\n",
       "      <td>923.260010</td>\n",
       "      <td>947.770020</td>\n",
       "      <td>923.260010</td>\n",
       "      <td>942.869995</td>\n",
       "      <td>6370440000</td>\n",
       "    </tr>\n",
       "    <tr>\n",
       "      <th>2009-06-02 00:00:00-04:00</th>\n",
       "      <td>942.869995</td>\n",
       "      <td>949.380005</td>\n",
       "      <td>938.460022</td>\n",
       "      <td>944.739990</td>\n",
       "      <td>5987340000</td>\n",
       "    </tr>\n",
       "  </tbody>\n",
       "</table>\n",
       "</div>"
      ],
      "text/plain": [
       "                                 Open        High         Low       Close  \\\n",
       "Date                                                                        \n",
       "2009-06-01 00:00:00-04:00  923.260010  947.770020  923.260010  942.869995   \n",
       "2009-06-02 00:00:00-04:00  942.869995  949.380005  938.460022  944.739990   \n",
       "\n",
       "                               Volume  \n",
       "Date                                   \n",
       "2009-06-01 00:00:00-04:00  6370440000  \n",
       "2009-06-02 00:00:00-04:00  5987340000  "
      ]
     },
     "execution_count": 12,
     "metadata": {},
     "output_type": "execute_result"
    }
   ],
   "source": [
    "cols = df.columns.to_list() # converts columns of df into a list\n",
    "drop = cols[-2:] # get last two columns of df\n",
    "df = df.drop(columns=drop) # delete those columns\n",
    "\n",
    "df.head(2)"
   ]
  },
  {
   "cell_type": "markdown",
   "metadata": {},
   "source": [
    "## 3) Build Datasets"
   ]
  },
  {
   "cell_type": "markdown",
   "metadata": {},
   "source": [
    "Split Dataset"
   ]
  },
  {
   "cell_type": "code",
   "execution_count": 13,
   "metadata": {},
   "outputs": [],
   "source": [
    "X = list(df['Close']) # create a list of closing prices from df\n",
    "X = [float(x) for x in X] # convert each element to a float"
   ]
  },
  {
   "cell_type": "code",
   "execution_count": 14,
   "metadata": {},
   "outputs": [
    {
     "name": "stdout",
     "output_type": "stream",
     "text": [
      "[942.8699951171876, 944.739990234375, 931.760009765625, 942.4600219726562, 940.0900268554688, 939.1400146484376, 942.4299926757812, 939.1500244140624, 944.8900146484376, 946.2100219726562]\n"
     ]
    }
   ],
   "source": [
    "print(X[0:10])"
   ]
  },
  {
   "cell_type": "code",
   "execution_count": 15,
   "metadata": {},
   "outputs": [],
   "source": [
    "from sklearn.model_selection import train_test_split\n",
    "test_size = 0.2\n",
    "X_train, x_test = train_test_split(X, test_size=test_size, shuffle=False) # use test size 20%"
   ]
  },
  {
   "cell_type": "code",
   "execution_count": 16,
   "metadata": {},
   "outputs": [
    {
     "name": "stdout",
     "output_type": "stream",
     "text": [
      "[942.8699951171876, 944.739990234375, 931.760009765625, 942.4600219726562, 940.0900268554688, 939.1400146484376, 942.4299926757812, 939.1500244140624, 944.8900146484376, 946.2100219726562]\n"
     ]
    }
   ],
   "source": [
    "print(X_train[0:10])"
   ]
  },
  {
   "cell_type": "markdown",
   "metadata": {},
   "source": [
    "## 4) Build Model"
   ]
  },
  {
   "cell_type": "markdown",
   "metadata": {},
   "source": [
    "Memory Class: Cyclic Buffer of bounded size that holds the transitions observed recently. It also implements a sample() method for selecting a random batch of transitions for training"
   ]
  },
  {
   "cell_type": "code",
   "execution_count": 82,
   "metadata": {},
   "outputs": [],
   "source": [
    "class Memory():\n",
    "    def __init__(self, capacity=10000):\n",
    "        self.memory = deque([], maxlen=capacity)\n",
    "    def push(self, state, action, reward, next_state, done):\n",
    "        self.memory.append((state, action, reward, next_state, done)) # overwrites old \n",
    "    def sample(self, batch_size):\n",
    "        return random.sample(self.memory, batch_size)\n",
    "    def __len__(self):\n",
    "        return len(self.memory)"
   ]
  },
  {
   "cell_type": "markdown",
   "metadata": {},
   "source": [
    "Neural Network Class: Create the Q-Network used in the DQN algorithm to approximate the Q-Value function"
   ]
  },
  {
   "cell_type": "code",
   "execution_count": 83,
   "metadata": {},
   "outputs": [],
   "source": [
    "class DQN(nn.Module):\n",
    "    def __init__(self, state_size, action_size):\n",
    "        super(DQN, self).__init__()\n",
    "        self.fc1 = nn.Linear(state_size, 128)\n",
    "        self.fc2 = nn.Linear(128, 64)\n",
    "        self.fc3 = nn.Linear(64, 32)\n",
    "        self.fc4 = nn.Linear(32, 8)\n",
    "        self.output = nn.Linear(8, action_size)\n",
    "\n",
    "        self.lr = 0.001\n",
    "        self.loss_fn = nn.MSELoss()\n",
    "        self.optimizer = optim.Adam(self.parameters(), lr=self.lr)\n",
    "\n",
    "        #self.device = torch.device('mps' if torch.backends.mps.is_available() else 'cpu')\n",
    "        self.device = 'cpu'\n",
    "        self.to(self.device)\n",
    "\n",
    "    def forward(self, x):\n",
    "        x = F.relu(self.fc1(x))\n",
    "        x = F.relu(self.fc2(x))\n",
    "        x = F.relu(self.fc3(x))\n",
    "        x = F.relu(self.fc4(x))\n",
    "        x = self.output(x)\n",
    "        return x\n",
    "    \n",
    "    def _train(self, y, y_pred): \n",
    "        self.train()\n",
    "        self.optimizer.zero_grad()\n",
    "        loss = self.loss_fn(y_pred, y) # we performed a forward pass in exp_replay, so use the results from that as y_pred\n",
    "        loss.backward()\n",
    "        self.optimizer.step()\n",
    "        return loss.item()\n",
    "        "
   ]
  },
  {
   "cell_type": "markdown",
   "metadata": {},
   "source": [
    "Agent Class: Define an Agent that is designed to act as a reinforcement learning agent for stock trading using a neural network. The agent can buy, sell or hold a stock. It learns from its experiences over time"
   ]
  },
  {
   "cell_type": "code",
   "execution_count": 84,
   "metadata": {},
   "outputs": [],
   "source": [
    "class Agent():\n",
    "    def __init__(self, state_size, is_eval=False, model_name=\"\"):\n",
    "        super(Agent, self).__init__()\n",
    "        self.state_size = state_size \n",
    "        self.action_size = 3\n",
    "        self.memory = Memory(1000)\n",
    "        self.budget = 5000\n",
    "        self.inventory = []\n",
    "        self.is_eval = is_eval\n",
    "        self.model_name = model_name\n",
    "        self.gamma = 0.95\n",
    "        self.epsilon = 1.0\n",
    "        self.eps_min = 0.01\n",
    "        self.eps_dec = 0.9\n",
    "\n",
    "        self.model = DQN(self.state_size, self.action_size)\n",
    "        if is_eval:\n",
    "            self.model = torch.load(model_name)\n",
    "            self.model.eval()\n",
    "\n",
    "    # CHOOSE ACTION \n",
    "    # epsilon greedy policy\n",
    "    def act(self, state):\n",
    "        if not self.is_eval and random.random() <= self.epsilon:\n",
    "            return random.randrange(self.action_size)\n",
    "        state = torch.tensor(state, dtype=torch.float).to(self.model.device)\n",
    "        actions = self.model.forward(state).detach().numpy()\n",
    "        return np.argmax(actions[0])\n",
    "\n",
    "    # EXPERIENCE REPLAY\n",
    "    def expReplay(self, batch_size):\n",
    "        if self.memory.__len__() < batch_size:\n",
    "            return\n",
    "        minibatch = self.memory.sample(batch_size)\n",
    "        for state, action, reward, next_state, done in minibatch:\n",
    "            state = torch.tensor(state, dtype=torch.float).to(self.model.device) \n",
    "            next_state = torch.tensor(next_state, dtype=torch.float).to(self.model.device) \n",
    "            target = reward\n",
    "            if not done:\n",
    "                target = reward + self.gamma * torch.max(self.model.forward(next_state)[0])\n",
    "\n",
    "            target_f = self.model.forward(state)\n",
    "            y_pred = torch.clone(target_f) # keep this for the training function so we dont need to perform another forward pass\n",
    "            target_f[0][action] = target\n",
    "\n",
    "            self.model._train(target_f, y_pred)\n",
    "        if self.epsilon > self.eps_min:\n",
    "            self.epsilon -= self.eps_dec"
   ]
  },
  {
   "cell_type": "markdown",
   "metadata": {},
   "source": [
    "Helper Functions"
   ]
  },
  {
   "cell_type": "code",
   "execution_count": 85,
   "metadata": {},
   "outputs": [],
   "source": [
    "def formatPrice(n):\n",
    "    return (\"-$\" if n < 0 else \"$\") + \"{0:,.2f}\".format(abs(n))\n",
    "\n",
    "def sigmoid(x):\n",
    "    if x >= 0:\n",
    "        return 1 / (1 + math.exp(-x))\n",
    "    else:\n",
    "        return 1 / (1 + math.exp(x))\n",
    "\n",
    "def getState(data, t, n):\n",
    "    d = t - n + 1 \n",
    "    block = data[d:t+1] if d >= 0 else -d * [data[0]] + data[0:t + 1]\n",
    "    res = [] \n",
    "    for i in range(n-1): \n",
    "        res.append(sigmoid(block[i+1]-block[i])) \n",
    "    return np.array([res]) \n",
    "\n",
    "def plot_behavior(data_input, states_buy, states_sell, profit, cost):\n",
    "    plt.figure(figsize=(15,5))\n",
    "    plt.plot(data_input, marker=6, markersize=10, color='b', label='Buying Signal', markevery=states_buy)\n",
    "    plt.plot(data_input, marker=7, markersize=10, color='r', label='Selling Signal', markevery=states_sell)\n",
    "    plt.plot(data_input, color='g', lw=1.) \n",
    "    plt.legend() \n",
    "    plt.show() \n",
    "    print('Total Gains: ' + formatPrice(profit))\n",
    "    print(\"Total Cost: \" + formatPrice(cost))\n",
    "    if cost != 0:\n",
    "        print('Percent Return: Gains/Cost = %.2f%%' %(profit*100/cost))\n",
    "    print(\"--------------------------------\")\n",
    "    print()\n",
    "\n",
    "def plot_average_reward_per_ep(total_rewards, epochs):\n",
    "    average_rewards_per_episode = [sum(total_rewards[:i+1])/(i+1) for i in range(len(total_rewards))]\n",
    "    plt.plot(range(epochs+1), average_rewards_per_episode)\n",
    "    plt.xlabel('Epoch')\n",
    "    plt.ylabel('Average Reward')\n",
    "    plt.title('Average Reward per Episode Over Time')\n",
    "    plt.show()\n",
    "\n",
    "def plot_avg_pred_q_vals(q_vals, epochs):\n",
    "    plt.plot(range(epochs+1), q_vals)\n",
    "    plt.xlabel('Epoch')\n",
    "    plt.ylabel('Average Q-Value')\n",
    "    plt.title('Average Predicted Q-Values Over Time')\n",
    "    plt.show()\n",
    "\n",
    "def collect_fixed_states(data, window_size, num_states=1000):\n",
    "    fixed_states = []\n",
    "    l = len(data)-1\n",
    "    while len(fixed_states)<num_states:\n",
    "        t = np.random.randint(0, l-window_size+1)\n",
    "        state = getState(data, t, window_size+1)\n",
    "        fixed_states.append(state)\n",
    "    return fixed_states"
   ]
  },
  {
   "cell_type": "markdown",
   "metadata": {},
   "source": [
    "## 5) Train Model"
   ]
  },
  {
   "cell_type": "markdown",
   "metadata": {},
   "source": [
    "Train the Agent"
   ]
  },
  {
   "cell_type": "code",
   "execution_count": null,
   "metadata": {},
   "outputs": [],
   "source": [
    "window_size = 1\n",
    "agent = Agent(window_size)\n",
    "data = X_train\n",
    "l = len(data)-1\n",
    "batch_size = 32\n",
    "epochs = 10\n",
    "total_rewards = []\n",
    "avg_max_q_vals = []\n",
    "overspending_reward = -1 # reward if agent buys when it cant afford\n",
    "invalid_sell_reward = -0.1 # reward if agent tries to sell when it has no inventory\n",
    "sell_reward_mult = 2 # multiplier of reward for selling\n",
    "fixed_states = collect_fixed_states(data, window_size)\n",
    "for e in range(epochs+1): \n",
    "    print(\"Epoch \" + str(e) + \"/\" + str(epochs)) \n",
    "    state = getState(data, 0, window_size + 1) \n",
    "    total_profit = 0 \n",
    "    agent.inventory = []\n",
    "    agent.budget = 5000 \n",
    "    states_buy = []\n",
    "    states_sell = [] \n",
    "    cost = 0 # total cost of buying stocks\n",
    "\n",
    "    for t in range(l): \n",
    "        action = agent.act(state)     \n",
    "        next_state = getState(data, t+1, window_size+1) \n",
    "        reward = 0\n",
    "\n",
    "        if action == 1: # if the action is buy and you can afford\n",
    "            agent.inventory.append(data[t]) # add stock to inventory\n",
    "            #total_profit -= data[t] # subtract cost from total profit\n",
    "            states_buy.append(t) # add timestep to bought states\n",
    "            cost += data[t] # add cost of stock to total cost\n",
    "            #agent.budget -= data[t] # subtract cost of stock from budget\n",
    "            # if agent.budget <= 0:\n",
    "            #     reward = overspending_reward\n",
    "\n",
    "        elif action == 2: # if the action is sell and you have stock to sell\n",
    "            if len(agent.inventory) > 0:\n",
    "                bought_price = agent.inventory.pop(0) # get the price of the earliest point you bought\n",
    "                reward = (data[t] - bought_price)*sell_reward_mult # get reward\n",
    "                total_profit += data[t] - bought_price  # add selling price to profit\n",
    "                states_sell.append(t) # add timestep to sold states\n",
    "                #agent.budget += data[t] # add the profit to your budget\n",
    "            # elif len(agent.inventory) <= 0:\n",
    "            #     reward = invalid_sell_reward\n",
    "\n",
    "        done = True if t == l - 1 else False \n",
    "        agent.memory.push(state, action, reward, next_state, done) \n",
    "        state = next_state \n",
    "        agent.expReplay(batch_size)\n",
    "        if done: \n",
    "            print(\"--------------------------------\")\n",
    "            total_rewards.append(total_profit)\n",
    "            plot_behavior(data, states_buy, states_sell, total_profit, cost)        \n",
    "    # max_q_values = []\n",
    "    # for fixed_state in fixed_states:\n",
    "    #     fixed_state = torch.tensor(fixed_state, dtype=torch.float).to(agent.model.device)\n",
    "    #     q_values = agent.model.forward(fixed_state).detach().numpy()\n",
    "    #     max_q_values.append(np.max(q_values))\n",
    "    # avg_max_q_vals.append(np.mean(max_q_values))\n",
    "        \n",
    "    path = \"models/model_ep\"+str(e)+\".pth\"\n",
    "    torch.save(agent.model, path)\n",
    "\n",
    "plot_average_reward_per_ep(total_rewards, epochs)\n",
    "#plot_avg_pred_q_vals(avg_max_q_vals, epochs)"
   ]
  },
  {
   "cell_type": "markdown",
   "metadata": {},
   "source": [
    "## Results"
   ]
  },
  {
   "cell_type": "code",
   "execution_count": null,
   "metadata": {},
   "outputs": [],
   "source": [
    "print(\"Train Optimizer's state_dict:\")\n",
    "for var_name in agent.model.optimizer.state_dict():\n",
    "    print(var_name, \"\\t\", agent.model.optimizer.state_dict()[var_name])"
   ]
  },
  {
   "cell_type": "code",
   "execution_count": null,
   "metadata": {},
   "outputs": [],
   "source": [
    "test_data = x_test\n",
    "l_test = len(test_data) - 1\n",
    "window_size = 1\n",
    "is_eval = True\n",
    "\n",
    "e_agent = Agent(window_size, is_eval, \"models/model_ep8.pth\")\n",
    "\n",
    "state = getState(test_data, 0, window_size + 1)\n",
    "total_profit = 0\n",
    "states_buy_test = []\n",
    "states_sell_test = []\n",
    "holding_reward = 0.1\n",
    "cost = 0 # total cost of buying stocks\n",
    "budget = 5000 # initial starting budget"
   ]
  },
  {
   "cell_type": "code",
   "execution_count": null,
   "metadata": {},
   "outputs": [],
   "source": [
    "print(\"Test Optimizer's state_dict:\")\n",
    "for var_name in e_agent.model.optimizer.state_dict():\n",
    "    print(var_name, \"\\t\", e_agent.model.optimizer.state_dict()[var_name])"
   ]
  },
  {
   "cell_type": "code",
   "execution_count": null,
   "metadata": {},
   "outputs": [],
   "source": [
    "for t in range(l_test): \n",
    "    action = e_agent.act(state)     \n",
    "    next_state = getState(test_data, t+1, window_size+1) \n",
    "    reward = 0\n",
    "    if action == 1 and test_data[t] <= budget: # if the action is buy and you can afford\n",
    "        e_agent.inventory.append(test_data[t]) # add stock to inventory\n",
    "        total_profit -= test_data[t] # subtract cost from total profit\n",
    "        states_buy.append(t) # add timestep to bought states\n",
    "        cost += test_data[t] # add cost of stock to total cost\n",
    "        budget -= test_data[t] # subtract cost of stock from budget\n",
    "        print(\"Buy: \" + formatPrice(test_data[t]))\n",
    "    elif action == 2 and len(e_agent.inventory) > 0: # if the action is sell and you have stock to sell\n",
    "        bought_price = e_agent.inventory.pop(0) # get the price of the earliest point you bought\n",
    "        reward = test_data[t] - bought_price # get reward\n",
    "        total_profit += test_data[t] # add selling price to profit\n",
    "        states_sell.append(t) # add timestep to sold states\n",
    "        budget += test_data[t] # add the profit to your budget\n",
    "        print(\"Sell: \" + formatPrice(test_data[t]))\n",
    "        print(\"Profit: \" + formatPrice(test_data[t] - bought_price))\n",
    "    done = True if t == l_test - 1 else False \n",
    "    e_agent.memory.push(state, action, reward, next_state, done) \n",
    "    state = next_state \n",
    "    if done: \n",
    "        print(\"--------------------------------\")\n",
    "        plot_behavior(test_data,states_buy_test, states_sell_test, total_profit, cost)"
   ]
  },
  {
   "cell_type": "code",
   "execution_count": null,
   "metadata": {},
   "outputs": [],
   "source": []
  }
 ],
 "metadata": {
  "kernelspec": {
   "display_name": "venv",
   "language": "python",
   "name": "python3"
  },
  "language_info": {
   "codemirror_mode": {
    "name": "ipython",
    "version": 3
   },
   "file_extension": ".py",
   "mimetype": "text/x-python",
   "name": "python",
   "nbconvert_exporter": "python",
   "pygments_lexer": "ipython3",
   "version": "3.10.10"
  }
 },
 "nbformat": 4,
 "nbformat_minor": 2
}
